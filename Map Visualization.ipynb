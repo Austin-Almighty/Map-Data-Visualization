{
 "cells": [
  {
   "cell_type": "markdown",
   "metadata": {},
   "source": []
  },
  {
   "cell_type": "code",
   "execution_count": 8,
   "metadata": {},
   "outputs": [],
   "source": [
    "# Dependancies\n",
    "import os\n",
    "import pandas as pd\n",
    "import matplotlib.pyplot as plt\n",
    "import matplotlib.colors as mcolors\n",
    "import folium\n",
    "from folium import plugins"
   ]
  },
  {
   "cell_type": "code",
   "execution_count": 9,
   "metadata": {},
   "outputs": [],
   "source": [
    "# Read the CSV data and load it into a dataframe\n",
    "file_name = 'Real estate.csv'\n",
    "data = pd.read_csv(file_name)"
   ]
  },
  {
   "cell_type": "code",
   "execution_count": 10,
   "metadata": {},
   "outputs": [],
   "source": [
    "# Center the map on the data points (Shindian District)\n",
    "m = folium.Map(location=[data['latitude'].mean(), data['longitude'].mean()], zoom_start=11) # mean of latitude and longitude of the data points"
   ]
  },
  {
   "cell_type": "code",
   "execution_count": 11,
   "metadata": {},
   "outputs": [],
   "source": [
    "#Find the maximum and minimum of house price and distance to MRT\n",
    "price_min, price_max = data['house price of unit area'].min(), data['house price of unit area'].max()\n",
    "distance_min, distance_max = data['distance to the nearest MRT station'].min(), data['distance to the nearest MRT station'].max()"
   ]
  },
  {
   "cell_type": "code",
   "execution_count": 12,
   "metadata": {},
   "outputs": [],
   "source": [
    "#Find the meidan of the price and distance\n",
    "pirce_median = data['house price of unit area'].median()\n",
    "distance_median = data['distance to the nearest MRT station'].median()"
   ]
  },
  {
   "cell_type": "code",
   "execution_count": 13,
   "metadata": {},
   "outputs": [],
   "source": [
    "for _, row in data.iterrows():\n",
    "    normalized_price = (row['house price of unit area'] - price_min) / (price_max - price_min)\n",
    "    color = plt.cm.RdYlGn(1-normalized_price)\n",
    "\n",
    "    normalized_distance = (row['distance to the nearest MRT station']-distance_min) / (distance_max - distance_min)\n",
    "\n",
    "    popup_info = f\"\"\"Median House Price per unit area: ${pirce_median}<br>\n",
    "    Distance to the nearest MRT station: {row['distance to the nearest MRT station']}m<br>\n",
    "    Number of convenience stores: {row['number of convenience stores']}<br>\"\"\"\n",
    "\n",
    "    folium.CircleMarker(\n",
    "        location=[row['latitude'], row['longitude']],\n",
    "        radius=5 + 20 * normalized_price,\n",
    "        color=mcolors.to_hex(color[:3]),\n",
    "        fill=True,\n",
    "        fill_color=mcolors.to_hex(color[:3]),\n",
    "        fill_opacity=0.7,\n",
    "        popup=folium.Popup(popup_info, max_width=300)\n",
    "    ).add_to(m)\n",
    "    "
   ]
  },
  {
   "cell_type": "code",
   "execution_count": 14,
   "metadata": {},
   "outputs": [],
   "source": [
    "plugins.MiniMap().add_to(m)\n",
    "\n",
    "m.save('real_estate.html')"
   ]
  }
 ],
 "metadata": {
  "kernelspec": {
   "display_name": "openwebui",
   "language": "python",
   "name": "python3"
  },
  "language_info": {
   "codemirror_mode": {
    "name": "ipython",
    "version": 3
   },
   "file_extension": ".py",
   "mimetype": "text/x-python",
   "name": "python",
   "nbconvert_exporter": "python",
   "pygments_lexer": "ipython3",
   "version": "3.9.18"
  }
 },
 "nbformat": 4,
 "nbformat_minor": 2
}
